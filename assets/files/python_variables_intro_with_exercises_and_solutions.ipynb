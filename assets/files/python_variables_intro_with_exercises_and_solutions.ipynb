{
 "cells": [
  {
   "cell_type": "markdown",
   "id": "e53c7625",
   "metadata": {},
   "source": [
    "# Introduction to Python Variables\n",
    "\n",
    "This notebook introduces the concept of **variables** in Python, along with two important data structures: **lists** and **dictionaries**.\n",
    "\n",
    "It is designed for **beginners** and includes explanations and runnable examples.\n"
   ]
  },
  {
   "cell_type": "markdown",
   "id": "3806855a",
   "metadata": {},
   "source": [
    "## 1. What is a Variable?\n",
    "\n",
    "A variable is like a **container** that stores a value. You can give it a name and use it later in your code.\n",
    "\n",
    "Rules for variable names:\n",
    "- Must start with a letter or underscore (`_`).\n",
    "- Cannot start with a number.\n",
    "- Can only contain letters, numbers, and underscores.\n",
    "- Case-sensitive (`age` and `Age` are different).\n"
   ]
  },
  {
   "cell_type": "code",
   "execution_count": 1,
   "id": "2bb7c79e",
   "metadata": {},
   "outputs": [
    {
     "name": "stdout",
     "output_type": "stream",
     "text": [
      "Name: Alice\n",
      "Age: 25\n",
      "Height: 1.68\n"
     ]
    }
   ],
   "source": [
    "# Example: Creating variables\n",
    "name = \"Alice\"   # a string variable\n",
    "age = 25        # an integer variable\n",
    "height = 1.68   # a float variable\n",
    "\n",
    "print(\"Name:\", name)\n",
    "print(\"Age:\", age)\n",
    "print(\"Height:\", height)\n"
   ]
  },
  {
   "cell_type": "markdown",
   "id": "d3fcb06b",
   "metadata": {},
   "source": [
    "## 2. Changing Variable Values\n",
    "You can change the value stored in a variable by reassigning it."
   ]
  },
  {
   "cell_type": "code",
   "execution_count": 2,
   "id": "7ba75251",
   "metadata": {},
   "outputs": [
    {
     "name": "stdout",
     "output_type": "stream",
     "text": [
      "Updated Age: 26\n"
     ]
    }
   ],
   "source": [
    "age = 26  # update age\n",
    "print(\"Updated Age:\", age)\n"
   ]
  },
  {
   "cell_type": "markdown",
   "id": "e6f13153",
   "metadata": {},
   "source": [
    "## 3. Lists\n",
    "\n",
    "A **list** is an ordered collection of items. Lists can store multiple values in one variable.\n",
    "\n",
    "You create a list using square brackets `[]`."
   ]
  },
  {
   "cell_type": "code",
   "execution_count": 3,
   "id": "f424da37",
   "metadata": {},
   "outputs": [
    {
     "name": "stdout",
     "output_type": "stream",
     "text": [
      "['apple', 'banana', 'cherry']\n",
      "First fruit: apple\n",
      "Second fruit: banana\n"
     ]
    }
   ],
   "source": [
    "# Example: Creating a list\n",
    "fruits = [\"apple\", \"banana\", \"cherry\"]\n",
    "print(fruits)\n",
    "\n",
    "# Access items by index (starts at 0)\n",
    "print(\"First fruit:\", fruits[0])\n",
    "print(\"Second fruit:\", fruits[1])\n"
   ]
  },
  {
   "cell_type": "markdown",
   "id": "6924e291",
   "metadata": {},
   "source": [
    "### Modifying a List\n",
    "Lists are **mutable**, meaning you can change them after creation."
   ]
  },
  {
   "cell_type": "code",
   "execution_count": 4,
   "id": "b03b8cbe",
   "metadata": {},
   "outputs": [
    {
     "name": "stdout",
     "output_type": "stream",
     "text": [
      "After adding orange: ['apple', 'banana', 'cherry', 'orange']\n",
      "After removing banana: ['apple', 'cherry', 'orange']\n",
      "After changing first fruit: ['mango', 'cherry', 'orange']\n"
     ]
    }
   ],
   "source": [
    "fruits.append(\"orange\")  # add an item\n",
    "print(\"After adding orange:\", fruits)\n",
    "\n",
    "fruits.remove(\"banana\")  # remove an item\n",
    "print(\"After removing banana:\", fruits)\n",
    "\n",
    "fruits[0] = \"mango\"  # change an item\n",
    "print(\"After changing first fruit:\", fruits)\n"
   ]
  },
  {
   "cell_type": "markdown",
   "id": "aa61bf75",
   "metadata": {},
   "source": [
    "## 4. Dictionaries\n",
    "\n",
    "A **dictionary** stores data in **key-value pairs**. Use curly braces `{}` to create one.\n",
    "\n",
    "- Keys are like labels.\n",
    "- Values are the data associated with each key."
   ]
  },
  {
   "cell_type": "code",
   "execution_count": 5,
   "id": "79406a72",
   "metadata": {},
   "outputs": [
    {
     "name": "stdout",
     "output_type": "stream",
     "text": [
      "{'name': 'Alice', 'age': 25, 'city': 'New York'}\n",
      "Name: Alice\n",
      "Age: 25\n"
     ]
    }
   ],
   "source": [
    "# Example: Creating a dictionary\n",
    "person = {\n",
    "    \"name\": \"Alice\",\n",
    "    \"age\": 25,\n",
    "    \"city\": \"New York\"\n",
    "}\n",
    "\n",
    "print(person)\n",
    "print(\"Name:\", person[\"name\"])\n",
    "print(\"Age:\", person[\"age\"])\n"
   ]
  },
  {
   "cell_type": "markdown",
   "id": "08d921ac",
   "metadata": {},
   "source": [
    "### Modifying a Dictionary\n",
    "Dictionaries are also **mutable**."
   ]
  },
  {
   "cell_type": "code",
   "execution_count": 6,
   "id": "3cd4b95f",
   "metadata": {},
   "outputs": [
    {
     "name": "stdout",
     "output_type": "stream",
     "text": [
      "{'name': 'Alice', 'age': 26, 'country': 'USA'}\n"
     ]
    }
   ],
   "source": [
    "person[\"age\"] = 26  # update value\n",
    "person[\"country\"] = \"USA\"  # add new key-value pair\n",
    "del person[\"city\"]  # remove a key-value pair\n",
    "\n",
    "print(person)\n"
   ]
  },
  {
   "cell_type": "markdown",
   "id": "054e4d14",
   "metadata": {},
   "source": [
    "## 5. Summary\n",
    "- Variables store data.\n",
    "- Lists store ordered collections of items.\n",
    "- Dictionaries store data as key-value pairs.\n",
    "\n",
    "These are fundamental building blocks in Python programming!\n"
   ]
  },
  {
   "cell_type": "markdown",
   "id": "45bbec6e",
   "metadata": {},
   "source": [
    "## 6. Practice Exercises\n",
    "Now it’s your turn! Try solving these exercises to practice what you learned."
   ]
  },
  {
   "cell_type": "markdown",
   "id": "559207f5",
   "metadata": {},
   "source": [
    "### Exercise 1: Variables\n",
    "1. Create a variable called `city` and assign your favorite city to it.\n",
    "2. Create a variable `year` and assign the current year.\n",
    "3. Print both values."
   ]
  },
  {
   "cell_type": "code",
   "execution_count": null,
   "id": "ecb78917",
   "metadata": {},
   "outputs": [],
   "source": [
    "# Your code here\n"
   ]
  },
  {
   "cell_type": "markdown",
   "id": "8c2d6c8f",
   "metadata": {},
   "source": [
    "### Exercise 2: Lists\n",
    "1. Create a list called `numbers` with values 10, 20, 30, 40.\n",
    "2. Add the number 50 to the list.\n",
    "3. Remove the number 20.\n",
    "4. Change the first number to 5.\n",
    "5. Print the final list."
   ]
  },
  {
   "cell_type": "code",
   "execution_count": null,
   "id": "79d5721a",
   "metadata": {},
   "outputs": [],
   "source": [
    "# Your code here\n"
   ]
  },
  {
   "cell_type": "markdown",
   "id": "3f8c215a",
   "metadata": {},
   "source": [
    "### Exercise 3: Dictionaries\n",
    "1. Create a dictionary called `book` with keys: `title`, `author`, and `year`.\n",
    "2. Print the author of the book.\n",
    "3. Add a new key `pages` with a number.\n",
    "4. Update the `year` to a new value.\n",
    "5. Print the updated dictionary."
   ]
  },
  {
   "cell_type": "code",
   "execution_count": null,
   "id": "8c2e76b6",
   "metadata": {},
   "outputs": [],
   "source": [
    "# Your code here\n"
   ]
  },
  {
   "cell_type": "markdown",
   "id": "76d5d08f",
   "metadata": {},
   "source": [
    "## 7. Solutions\n",
    "Here are the solutions to the practice exercises. Try to solve them on your own first before looking here!"
   ]
  },
  {
   "cell_type": "markdown",
   "id": "d52b0eb4",
   "metadata": {},
   "source": [
    "### Solution 1: Variables"
   ]
  },
  {
   "cell_type": "code",
   "execution_count": 7,
   "id": "6e0d50ad",
   "metadata": {},
   "outputs": [
    {
     "name": "stdout",
     "output_type": "stream",
     "text": [
      "City: Paris\n",
      "Year: 2025\n"
     ]
    }
   ],
   "source": [
    "city = \"Paris\"\n",
    "year = 2025\n",
    "print(\"City:\", city)\n",
    "print(\"Year:\", year)"
   ]
  },
  {
   "cell_type": "markdown",
   "id": "5b44006c",
   "metadata": {},
   "source": [
    "### Solution 2: Lists"
   ]
  },
  {
   "cell_type": "code",
   "execution_count": 8,
   "id": "eac65c8c",
   "metadata": {},
   "outputs": [
    {
     "name": "stdout",
     "output_type": "stream",
     "text": [
      "[5, 30, 40, 50]\n"
     ]
    }
   ],
   "source": [
    "numbers = [10, 20, 30, 40]\n",
    "numbers.append(50)\n",
    "numbers.remove(20)\n",
    "numbers[0] = 5\n",
    "print(numbers)"
   ]
  },
  {
   "cell_type": "markdown",
   "id": "71da08a9",
   "metadata": {},
   "source": [
    "### Solution 3: Dictionaries"
   ]
  },
  {
   "cell_type": "code",
   "execution_count": 9,
   "id": "c4016621",
   "metadata": {},
   "outputs": [
    {
     "name": "stdout",
     "output_type": "stream",
     "text": [
      "Author: John Doe\n",
      "{'title': 'Python Basics', 'author': 'John Doe', 'year': 2025, 'pages': 250}\n"
     ]
    }
   ],
   "source": [
    "book = {\n",
    "    \"title\": \"Python Basics\",\n",
    "    \"author\": \"John Doe\",\n",
    "    \"year\": 2020\n",
    "}\n",
    "\n",
    "print(\"Author:\", book[\"author\"])\n",
    "\n",
    "book[\"pages\"] = 250\n",
    "book[\"year\"] = 2025\n",
    "\n",
    "print(book)"
   ]
  },
  {
   "cell_type": "code",
   "execution_count": null,
   "id": "618dfc88-136e-45c7-80f4-a6d7c0dfd2dd",
   "metadata": {},
   "outputs": [],
   "source": []
  }
 ],
 "metadata": {
  "kernelspec": {
   "display_name": "Python 3 (ipykernel)",
   "language": "python",
   "name": "python3"
  },
  "language_info": {
   "codemirror_mode": {
    "name": "ipython",
    "version": 3
   },
   "file_extension": ".py",
   "mimetype": "text/x-python",
   "name": "python",
   "nbconvert_exporter": "python",
   "pygments_lexer": "ipython3",
   "version": "3.9.15"
  }
 },
 "nbformat": 4,
 "nbformat_minor": 5
}
