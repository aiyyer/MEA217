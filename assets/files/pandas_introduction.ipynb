{
 "cells": [
  {
   "cell_type": "markdown",
   "id": "ce4fd9cf",
   "metadata": {},
   "source": [
    "# Introduction to Pandas"
   ]
  },
  {
   "cell_type": "markdown",
   "id": "3ba5612b",
   "metadata": {},
   "source": [
    "Pandas is a Python library that provides high-performance, easy-to-use data structures and data analysis tools. It is built on top of NumPy and is especially useful for working with **tabular data** such as spreadsheets, CSV files, or SQL tables.\n",
    "\n",
    "The two main data structures in pandas are:\n",
    "\n",
    "- **Series**: A one-dimensional labeled array\n",
    "- **DataFrame**: A two-dimensional labeled data structure (like a table)"
   ]
  },
  {
   "cell_type": "code",
   "execution_count": null,
   "id": "3b3329e8",
   "metadata": {},
   "outputs": [],
   "source": [
    "import pandas as pd\n",
    "import numpy as np\n",
    "import matplotlib.pyplot as plt"
   ]
  },
  {
   "cell_type": "markdown",
   "id": "c5032e1e",
   "metadata": {},
   "source": [
    "## Pandas Series"
   ]
  },
  {
   "cell_type": "markdown",
   "id": "2c0a8e94",
   "metadata": {},
   "source": [
    "A **Series** is like a one-dimensional array with labels (called an index). It can hold any data type (integers, strings, floats, Python objects, etc.)."
   ]
  },
  {
   "cell_type": "code",
   "execution_count": null,
   "id": "a415b594",
   "metadata": {},
   "outputs": [],
   "source": [
    "s = pd.Series([10, 20, 30, 40], index=['a', 'b', 'c', 'd'])\n",
    "print(s)"
   ]
  },
  {
   "cell_type": "markdown",
   "id": "581d240c",
   "metadata": {},
   "source": [
    "## Pandas DataFrame"
   ]
  },
  {
   "cell_type": "markdown",
   "id": "58308d60",
   "metadata": {},
   "source": [
    "A **DataFrame** is a 2D labeled data structure with rows and columns. You can think of it as a dictionary of Series objects sharing the same index."
   ]
  },
  {
   "cell_type": "code",
   "execution_count": null,
   "id": "4008ad54",
   "metadata": {},
   "outputs": [],
   "source": [
    "data = {\n",
    "    'Name': ['Alice', 'Bob', 'Charlie', 'David'],\n",
    "    'Age': [25, 30, 35, 40],\n",
    "    'City': ['NY', 'LA', 'Chicago', 'Houston']\n",
    "}\n",
    "df = pd.DataFrame(data)\n",
    "df"
   ]
  },
  {
   "cell_type": "markdown",
   "id": "d43fb82b",
   "metadata": {},
   "source": [
    "## Operations with DataFrames"
   ]
  },
  {
   "cell_type": "markdown",
   "id": "dff5106f",
   "metadata": {},
   "source": [
    "### Inspecting data"
   ]
  },
  {
   "cell_type": "code",
   "execution_count": null,
   "id": "1961c0f6",
   "metadata": {},
   "outputs": [],
   "source": [
    "df.head()"
   ]
  },
  {
   "cell_type": "code",
   "execution_count": null,
   "id": "cca93783",
   "metadata": {},
   "outputs": [],
   "source": [
    "df.info()"
   ]
  },
  {
   "cell_type": "code",
   "execution_count": null,
   "id": "3637507c",
   "metadata": {},
   "outputs": [],
   "source": [
    "df.describe()"
   ]
  },
  {
   "cell_type": "markdown",
   "id": "55288057",
   "metadata": {},
   "source": [
    "### Selecting data"
   ]
  },
  {
   "cell_type": "code",
   "execution_count": null,
   "id": "9265f9ff",
   "metadata": {},
   "outputs": [],
   "source": [
    "df['Name']  # Select one column"
   ]
  },
  {
   "cell_type": "code",
   "execution_count": null,
   "id": "2360a0d3",
   "metadata": {},
   "outputs": [],
   "source": [
    "df[['Name', 'Age']]  # Select multiple columns"
   ]
  },
  {
   "cell_type": "code",
   "execution_count": null,
   "id": "ca541378",
   "metadata": {},
   "outputs": [],
   "source": [
    "df.iloc[0]   # Select first row by position"
   ]
  },
  {
   "cell_type": "code",
   "execution_count": null,
   "id": "f7bfbaf6",
   "metadata": {},
   "outputs": [],
   "source": [
    "df.loc[0]    # Select first row by index label"
   ]
  },
  {
   "cell_type": "markdown",
   "id": "134d24b6",
   "metadata": {},
   "source": [
    "### Filtering data"
   ]
  },
  {
   "cell_type": "code",
   "execution_count": null,
   "id": "0240a4db",
   "metadata": {},
   "outputs": [],
   "source": [
    "df[df['Age'] > 30]"
   ]
  },
  {
   "cell_type": "markdown",
   "id": "8e17c626",
   "metadata": {},
   "source": [
    "### Adding new columns"
   ]
  },
  {
   "cell_type": "code",
   "execution_count": null,
   "id": "2cb65c5c",
   "metadata": {},
   "outputs": [],
   "source": [
    "df['Age in 5 years'] = df['Age'] + 5\n",
    "df"
   ]
  },
  {
   "cell_type": "markdown",
   "id": "90c31325",
   "metadata": {},
   "source": [
    "## Reading CSV and ASCII Data"
   ]
  },
  {
   "cell_type": "markdown",
   "id": "18569ef5",
   "metadata": {},
   "source": [
    "Pandas makes it easy to read external data files. For example:\n",
    "\n",
    "- `pd.read_csv('file.csv')` for CSV files\n",
    "- `pd.read_table('file.txt')` for general ASCII files with delimiters\n",
    "\n",
    "Here, we'll create a sample CSV file and read it back:"
   ]
  },
  {
   "cell_type": "code",
   "execution_count": null,
   "id": "acf02cb0",
   "metadata": {},
   "outputs": [],
   "source": [
    "sample_data = \"\"\"Name,Age,City\n",
    "Alice,25,NY\n",
    "Bob,30,LA\n",
    "Charlie,35,Chicago\n",
    "David,40,Houston\"\"\"\n",
    "\n",
    "with open('sample.csv', 'w') as f:\n",
    "    f.write(sample_data)\n",
    "\n",
    "# Read CSV\n",
    "df_csv = pd.read_csv('sample.csv')\n",
    "df_csv"
   ]
  },
  {
   "cell_type": "markdown",
   "id": "81a80708",
   "metadata": {},
   "source": [
    "## Simple Visualization with Pandas"
   ]
  },
  {
   "cell_type": "markdown",
   "id": "86328b58",
   "metadata": {},
   "source": [
    "Pandas integrates well with Matplotlib for visualization."
   ]
  },
  {
   "cell_type": "code",
   "execution_count": null,
   "id": "48c5f43d",
   "metadata": {},
   "outputs": [],
   "source": [
    "df['Age'].plot(kind='bar', title='Ages of People')\n",
    "plt.ylabel('Age')\n",
    "plt.show()"
   ]
  },
  {
   "cell_type": "markdown",
   "id": "da0703d5",
   "metadata": {},
   "source": [
    "## Practice Exercises"
   ]
  },
  {
   "cell_type": "markdown",
   "id": "4d28d73b",
   "metadata": {},
   "source": [
    "1. Create a DataFrame with columns: `Product`, `Price`, `Quantity`. Add a new column `Total` as `Price * Quantity`.\n",
    "\n",
    "2. Read the CSV file `sample.csv` and select only the rows where `Age > 30`.\n",
    "\n",
    "3. Plot a line graph of `Quantity` over `Product`.\n",
    "\n",
    "*(Try solving these before looking at solutions.)*"
   ]
  },
  {
   "cell_type": "code",
   "execution_count": null,
   "id": "78cd738b-d2fc-400c-871b-4f8c6e2a90e9",
   "metadata": {},
   "outputs": [],
   "source": []
  }
 ],
 "metadata": {
  "kernelspec": {
   "display_name": "Python 3 (ipykernel)",
   "language": "python",
   "name": "python3"
  },
  "language_info": {
   "codemirror_mode": {
    "name": "ipython",
    "version": 3
   },
   "file_extension": ".py",
   "mimetype": "text/x-python",
   "name": "python",
   "nbconvert_exporter": "python",
   "pygments_lexer": "ipython3",
   "version": "3.9.15"
  }
 },
 "nbformat": 4,
 "nbformat_minor": 5
}
