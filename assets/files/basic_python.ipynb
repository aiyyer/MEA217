{
 "cells": [
  {
   "cell_type": "markdown",
   "id": "f9c49aef-2c92-4270-93b5-0bac326ac854",
   "metadata": {},
   "source": [
    "**MEA 217: Intro to computing in geosciences**\n",
    "\n",
    "This notebook introduces the basic syntax and rules of Python, including:\n",
    "\n",
    "    -Variables\n",
    "    -Loops\n",
    "    -Control statements\n",
    "    -Functions\n",
    "\n",
    "Each section includes runnable examples.\n",
    "\n",
    "**Python Basics**\n",
    "\n",
    "Resources:\n",
    "- [Introduction to Data Science with Python](https://nustat.github.io/DataScience_Intro_python/)\n",
    "- \n",
    "\n"
   ]
  },
  {
   "cell_type": "code",
   "execution_count": null,
   "id": "7400a5a2-0ae5-4a67-82a6-f96d41e46eb5",
   "metadata": {},
   "outputs": [],
   "source": [
    "# read each cell below and run it to see the output\n",
    "# Do you have any questions?\n"
   ]
  },
  {
   "cell_type": "markdown",
   "id": "c47a1b50-7c69-4acf-bcb5-a4cc19b50d96",
   "metadata": {},
   "source": [
    "## 1. Variables\n",
    "note that this cell is marked as \"Markdown\" in the menu on the header. we use markdown\n",
    "to write comments and text\n"
   ]
  },
  {
   "cell_type": "code",
   "execution_count": null,
   "id": "4cbfc04c-a7c2-4f02-996b-15ea7c8bd2e5",
   "metadata": {},
   "outputs": [],
   "source": [
    "# Examples of variables\n",
    "x = 10         # integer\n",
    "y = 3.14       # float\n",
    "name = \"Alice\" # string\n",
    "is_happy = True # boolean\n",
    "\n",
    "print(\"x:\", x)\n",
    "print(\"y:\", y)\n",
    "print(\"name:\", name)\n",
    "print(\"is_happy:\", is_happy)"
   ]
  },
  {
   "cell_type": "markdown",
   "id": "8e5e685f-5ee2-4976-a540-028f5a149e26",
   "metadata": {},
   "source": [
    "## 2. Loops\n",
    "\n",
    "Python supports `for` and `while` loops."
   ]
  },
  {
   "cell_type": "code",
   "execution_count": null,
   "id": "3eb1fbaf-58ad-462f-9e5a-05f748cd2d05",
   "metadata": {},
   "outputs": [],
   "source": [
    "\n",
    "# For loop example\n",
    "for i in range(5):\n",
    "    print(\"Iteration:\", i)\n",
    "\n",
    "# While loop example\n",
    "count = 0\n",
    "while count < 5:\n",
    "    print(\"Count:\", count)\n",
    "    count += 1 # another way to to this is to say count = count + 1\n",
    "    "
   ]
  },
  {
   "cell_type": "code",
   "execution_count": null,
   "id": "d84e7888-10e1-4e9f-b6e3-e4d2443c7cf6",
   "metadata": {},
   "outputs": [],
   "source": [
    "# After running the code above, skip count by 2 or 3 to see what happens"
   ]
  },
  {
   "cell_type": "markdown",
   "id": "ce4123ff-aa1b-4ca4-88cc-8b57f6c8f27f",
   "metadata": {},
   "source": [
    "## 3. Control Statements\n",
    "\n",
    "- `if`, `elif`, and `else` let you control the flow of your program.\n",
    "- You can also use `break` and `continue` inside loops."
   ]
  },
  {
   "cell_type": "code",
   "execution_count": null,
   "id": "f5cf768f-f71a-439b-b18e-aea00ab6b6e0",
   "metadata": {},
   "outputs": [],
   "source": [
    "x = 7\n",
    "\n",
    "if x > 10:\n",
    "    print(\"x is greater than 10\")\n",
    "elif x == 10:\n",
    "    print(\"x is exactly 10\")\n",
    "else:\n",
    "    print(\"x is less than 10\")\n",
    "\n",
    "# Using break and continue\n",
    "for i in range(10):\n",
    "    if i == 3:\n",
    "        continue  # skip this iteration\n",
    "    if i == 7:\n",
    "        break     # stop the loop\n",
    "    print(\"i:\", i)"
   ]
  },
  {
   "cell_type": "markdown",
   "id": "95308401-ee0b-448a-b144-db8c97908c96",
   "metadata": {},
   "source": [
    "## 4. Functions\n",
    "\n",
    "- Functions allow you to organize and reuse code.\n",
    "- Use `def` to define a function.\n",
    "- Functions can take arguments and return values."
   ]
  },
  {
   "cell_type": "code",
   "execution_count": null,
   "id": "99740ad1-30df-4990-9d2b-29fa9d0b57d2",
   "metadata": {},
   "outputs": [],
   "source": [
    "def greet(name):\n",
    "    return f\"Hello, {name}!\"\n",
    "\n",
    "print(greet(\"Alice\"))\n",
    "print(greet(\"Bob\"))\n",
    "\n",
    "# Function with multiple arguments\n",
    "def add(a, b):\n",
    "    return a + b\n",
    "\n",
    "result = add(5, 7)\n",
    "print(\"5 + 7 =\", result)"
   ]
  },
  {
   "cell_type": "code",
   "execution_count": null,
   "id": "0262ff5d-b4db-4d7e-9562-8e5ce65bd7de",
   "metadata": {},
   "outputs": [],
   "source": [
    "## 🎯 Practice Exercise\n",
    "\n",
    "1. Create a variable that stores your age and print it.\n",
    "2. Write a `for` loop that prints all even numbers between 1 and 20.\n",
    "3. Write a function `square(n)` that returns the square of a number."
   ]
  }
 ],
 "metadata": {
  "kernelspec": {
   "display_name": "Python 3 (ipykernel)",
   "language": "python",
   "name": "python3"
  },
  "language_info": {
   "codemirror_mode": {
    "name": "ipython",
    "version": 3
   },
   "file_extension": ".py",
   "mimetype": "text/x-python",
   "name": "python",
   "nbconvert_exporter": "python",
   "pygments_lexer": "ipython3",
   "version": "3.9.15"
  }
 },
 "nbformat": 4,
 "nbformat_minor": 5
}
