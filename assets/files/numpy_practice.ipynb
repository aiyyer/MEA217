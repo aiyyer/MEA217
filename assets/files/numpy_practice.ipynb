{
 "cells": [
  {
   "cell_type": "code",
   "execution_count": 2,
   "id": "3f0063a9-6fb0-4ca0-a45e-2181eee04cb6",
   "metadata": {},
   "outputs": [],
   "source": [
    "# Practicing with Numpy "
   ]
  },
  {
   "cell_type": "markdown",
   "id": "3bda2eb4-1dfa-43f0-9346-4a95b4c39a35",
   "metadata": {},
   "source": [
    "First will explore how to create **1D and 2D arrays** using NumPy, and perform various operations such as indexing, slicing, reshaping, and arithmetic."
   ]
  },
  {
   "cell_type": "code",
   "execution_count": 4,
   "id": "93b4dac1",
   "metadata": {},
   "outputs": [],
   "source": [
    "import numpy as np"
   ]
  },
  {
   "cell_type": "markdown",
   "id": "a173f8cf-dae3-446a-b7f4-1c1bb501cb01",
   "metadata": {},
   "source": [
    "## Creating 1D and 2D Arrays"
   ]
  },
  {
   "cell_type": "code",
   "execution_count": 6,
   "id": "bd8c813d",
   "metadata": {},
   "outputs": [
    {
     "name": "stdout",
     "output_type": "stream",
     "text": [
      "1D Array: [1 2 3 4 5]\n"
     ]
    }
   ],
   "source": [
    "# 1D array\n",
    "arr1d = np.array([1, 2, 3, 4, 5])\n",
    "print(\"1D Array:\", arr1d)"
   ]
  },
  {
   "cell_type": "code",
   "execution_count": 7,
   "id": "b091b962-e6b4-4521-81a1-75cfa0470ac7",
   "metadata": {},
   "outputs": [],
   "source": [
    "# Note the 1D array above. It is also called a vector"
   ]
  },
  {
   "cell_type": "code",
   "execution_count": 22,
   "id": "34984819-f982-43b5-a90e-cdb5dab40391",
   "metadata": {},
   "outputs": [],
   "source": [
    "# How do we access elements of the 1d array?\n",
    "# array indices go from 0 to n-1, where n is the number of elements"
   ]
  },
  {
   "cell_type": "code",
   "execution_count": 23,
   "id": "34a2445d-9990-4d66-918e-5b4f314ae39d",
   "metadata": {},
   "outputs": [
    {
     "name": "stdout",
     "output_type": "stream",
     "text": [
      "1\n",
      "3\n",
      "5\n",
      "5\n"
     ]
    }
   ],
   "source": [
    "# to access the zeroth element\n",
    "print (arr1d[0])\n",
    "\n",
    "# to access the 2nd element\n",
    "print(arr1d[2])\n",
    "\n",
    "# to access the last element of this array\n",
    "print(arr1d[4])\n",
    "\n",
    "# to access the last element of the array, we can also use the trick\n",
    "print(arr1d[-1])\n"
   ]
  },
  {
   "cell_type": "code",
   "execution_count": 8,
   "id": "78e79292-b8cb-4923-965c-6416a4b8e888",
   "metadata": {},
   "outputs": [
    {
     "name": "stdout",
     "output_type": "stream",
     "text": [
      "2D Array:\n",
      " [[1 2 3]\n",
      " [4 5 6]]\n"
     ]
    }
   ],
   "source": [
    "# 2D array\n",
    "# For a 2D array, we have rows and columns\n",
    "arr2d = np.array([[1, 2, 3], [4, 5, 6]])\n",
    "print(\"2D Array:\\n\", arr2d)"
   ]
  },
  {
   "cell_type": "code",
   "execution_count": 13,
   "id": "68a73324-44a9-4e11-b6ca-6b691e4e359d",
   "metadata": {},
   "outputs": [],
   "source": [
    "# In the 2D array above, we have 2 rows and 3 columns\n",
    "# here is how we access specific array elements"
   ]
  },
  {
   "cell_type": "code",
   "execution_count": 24,
   "id": "6f34edd8-b6d7-48a7-9c76-f2d3fbca1de3",
   "metadata": {},
   "outputs": [
    {
     "name": "stdout",
     "output_type": "stream",
     "text": [
      "1\n",
      "5\n",
      "6\n"
     ]
    }
   ],
   "source": [
    "print(arr2d[0,0])  # row 0, col 0\n",
    "print(arr2d[1,1])  # row 1, col 1\n",
    "print(arr2d[1,2])  # row 1, col 2"
   ]
  },
  {
   "cell_type": "markdown",
   "id": "7352f522-a287-42f8-bff6-1b4c2106b184",
   "metadata": {},
   "source": [
    "## Array Properties"
   ]
  },
  {
   "cell_type": "code",
   "execution_count": 25,
   "id": "b75525e5",
   "metadata": {},
   "outputs": [
    {
     "name": "stdout",
     "output_type": "stream",
     "text": [
      "Shape of arr1d: (5,)\n",
      "Shape of arr2d: (2, 3)\n",
      "Dimensions of arr1d: 1\n",
      "Dimensions of arr2d: 2\n",
      "Data type of arr1d: int64\n"
     ]
    }
   ],
   "source": [
    "print(\"Shape of arr1d:\", arr1d.shape)\n",
    "print(\"Shape of arr2d:\", arr2d.shape)\n",
    "\n",
    "print(\"Dimensions of arr1d:\", arr1d.ndim)\n",
    "print(\"Dimensions of arr2d:\", arr2d.ndim)\n",
    "\n",
    "print(\"Data type of arr1d:\", arr1d.dtype)"
   ]
  },
  {
   "cell_type": "markdown",
   "id": "5b5716a9-5830-45ea-b259-8a0e46d61dcb",
   "metadata": {},
   "source": [
    "## Indexing and Slicing"
   ]
  },
  {
   "cell_type": "code",
   "execution_count": 26,
   "id": "572ba9da",
   "metadata": {},
   "outputs": [
    {
     "name": "stdout",
     "output_type": "stream",
     "text": [
      "First element of arr1d: 1\n",
      "Last element of arr1d: 5\n",
      "Elements from index 1 to 3: [2 3 4]\n",
      "Element at row 0, col 1: 2\n",
      "First row: [1 2 3]\n",
      "Second column: [2 5]\n"
     ]
    }
   ],
   "source": [
    "# Indexing 1D array\n",
    "print(\"First element of arr1d:\", arr1d[0])\n",
    "print(\"Last element of arr1d:\", arr1d[-1])\n",
    "\n",
    "# Slicing 1D array\n",
    "print(\"Elements from index 1 to 3:\", arr1d[1:4])\n",
    "\n",
    "# Indexing 2D array\n",
    "print(\"Element at row 0, col 1:\", arr2d[0, 1])\n",
    "\n",
    "# Slicing 2D array\n",
    "print(\"First row:\", arr2d[0, :])\n",
    "print(\"Second column:\", arr2d[:, 1])"
   ]
  },
  {
   "cell_type": "markdown",
   "id": "ac2e027a-e8d9-4687-a909-da610b80bba9",
   "metadata": {},
   "source": [
    "## Array Operations"
   ]
  },
  {
   "cell_type": "code",
   "execution_count": 27,
   "id": "508e9309",
   "metadata": {},
   "outputs": [
    {
     "name": "stdout",
     "output_type": "stream",
     "text": [
      "arr1d + 10: [11 12 13 14 15]\n",
      "arr1d * 2: [ 2  4  6  8 10]\n",
      "arr2d squared:\n",
      " [[ 1  4  9]\n",
      " [16 25 36]]\n",
      "arr2d + arr1d[:3]:\n",
      " [[2 4 6]\n",
      " [5 7 9]]\n"
     ]
    }
   ],
   "source": [
    "# Arithmetic operations\n",
    "print(\"arr1d + 10:\", arr1d + 10)\n",
    "print(\"arr1d * 2:\", arr1d * 2)\n",
    "\n",
    "# Element-wise operations on 2D array\n",
    "print(\"arr2d squared:\\n\", arr2d ** 2)\n",
    "\n",
    "# Broadcasting\n",
    "print(\"arr2d + arr1d[:3]:\\n\", arr2d + arr1d[:3])"
   ]
  },
  {
   "cell_type": "markdown",
   "id": "d5fb4f25-2641-4f2d-8def-06b90f83361a",
   "metadata": {},
   "source": [
    "## Useful NumPy Functions\n",
    "\n",
    "Observe what each of the following lines does"
   ]
  },
  {
   "cell_type": "code",
   "execution_count": 47,
   "id": "1a97d314",
   "metadata": {},
   "outputs": [
    {
     "name": "stdout",
     "output_type": "stream",
     "text": [
      "[0. 0. 0. 0. 0.]\n",
      "The above line creates a 1d array with 5 elements, all of which are zero\n",
      " \n",
      "[[1. 1. 1.]\n",
      " [1. 1. 1.]]\n",
      "The above line creates a 2d array with 2 rows and 5 columns, all of which are 1\n",
      " \n",
      "[0 2 4 6 8]\n",
      "The above line creates a 1d array with even integers\n",
      " \n",
      "[20 18 16 14 12]\n",
      "The above line creates a 1d array with even integers but ordered in reverse from 20 to 12\n",
      " \n",
      "[0.   0.25 0.5  0.75 1.  ]\n",
      "The above line creates a 1d array with 4 linearly spaced elements from 0 to 1\n",
      "The spacing between elements is (1-0)/(5-1) = 0.25\n",
      " \n"
     ]
    }
   ],
   "source": [
    "print(np.zeros(5))\n",
    "print(\"The above line creates a 1d array with 5 elements, all of which are zero\")\n",
    "print (\" \" )\n",
    "\n",
    "print(np.ones((2, 3)))\n",
    "print(\"The above line creates a 2d array with 2 rows and 5 columns, all of which are 1\")\n",
    "print (\" \" )\n",
    "\n",
    "\n",
    "print(np.arange(0, 10, 2))\n",
    "print(\"The above line creates a 1d array with even integers\")\n",
    "print (\" \" )\n",
    "\n",
    "\n",
    "print(np.arange(20, 10, -2))\n",
    "print(\"The above line creates a 1d array with even integers but ordered in reverse from 20 to 12\")\n",
    "print (\" \" )\n",
    "\n",
    "\n",
    "print(np.linspace(0, 1, 5))\n",
    "print(\"The above line creates a 1d array with 4 linearly spaced elements from 0 to 1\")\n",
    "print(\"The spacing between elements is (1-0)/(5-1) = 0.25\")\n",
    "\n",
    "print (\" \" )\n"
   ]
  },
  {
   "cell_type": "code",
   "execution_count": 43,
   "id": "b77b3149-f36b-4e44-abe7-33814d9a7931",
   "metadata": {},
   "outputs": [
    {
     "name": "stdout",
     "output_type": "stream",
     "text": [
      "[[0 1 2 3 4]\n",
      " [0 1 2 3 4]]\n",
      "in this example we created an array with 2 rows and 5 columns\n",
      " \n",
      "observe what the following line does\n",
      "[[ 0  2  4  6  8]\n",
      " [10  8  6  4  2]]\n"
     ]
    }
   ],
   "source": [
    "# Another example of creating arrays\n",
    "A = np.array([np.arange(5), np.arange(5)])\n",
    "print(A)\n",
    "print(\"in this example we created an array with 2 rows and 5 columns\")\n",
    "\n",
    "print(\" \")\n",
    "print(\"observe what the following line does\") \n",
    "B = np.array([np.arange(0,10,2), np.arange(10,0,-2)])\n",
    "print(B)"
   ]
  },
  {
   "cell_type": "markdown",
   "id": "8737c2a2-7bf5-4718-b771-1dfd54589a95",
   "metadata": {},
   "source": [
    "### Exercise 1\n",
    "\n",
    "- Create a 1d array of odd numbers from 1 to 21\n",
    "\n",
    "- Then create an array that reverses the order (i.e. from 21 to 1)\n"
   ]
  },
  {
   "cell_type": "code",
   "execution_count": 2,
   "id": "e8f11d65-cb4c-4fcb-996a-55d65c3b2639",
   "metadata": {},
   "outputs": [],
   "source": [
    "# Your solution here"
   ]
  },
  {
   "cell_type": "markdown",
   "id": "958f9a0a-2781-4992-8ec9-451069df8079",
   "metadata": {},
   "source": [
    "### Exercise 2\n",
    "\n",
    "- Create a 1d array of 10 numbers, each of which is spaced 0.5\n"
   ]
  },
  {
   "cell_type": "code",
   "execution_count": 3,
   "id": "dd9578f2-0679-4b8b-9e0a-243ffa5844da",
   "metadata": {},
   "outputs": [],
   "source": [
    "# Your solution here"
   ]
  },
  {
   "cell_type": "markdown",
   "id": "cadbb33e-ecff-468c-87a9-a1e3125bbe72",
   "metadata": {},
   "source": [
    "# Exercise 3\n",
    "\n",
    "- Create a 2d array with 3 rows and 3 columns, with each element being 0\n",
    "- Create a 2d array with 5 rows and 2 columns with the first \n",
    "column being even numbers and the second column odd numbers"
   ]
  },
  {
   "cell_type": "code",
   "execution_count": null,
   "id": "6b219f04-502e-4e88-b71f-6759df778289",
   "metadata": {},
   "outputs": [],
   "source": [
    "# Your solution here"
   ]
  },
  {
   "cell_type": "markdown",
   "id": "4f3cbf95-2b97-4e17-8e4c-a1fce11a5212",
   "metadata": {},
   "source": [
    "### Exercise 4\n",
    "\n",
    "Create two 1D arrays `a = [1,2,3,4,5]` and `b = [5,4,3,2,1]`. Compute:\n",
    "1. `a + b`\n",
    "2. `a - b`\n",
    "3. `a * b` (element-wise)\n",
    "4. `a / (b+1)`"
   ]
  },
  {
   "cell_type": "code",
   "execution_count": null,
   "id": "d58512c7-681a-452b-bba0-19922dea8d99",
   "metadata": {},
   "outputs": [],
   "source": [
    "# Your solution here"
   ]
  },
  {
   "cell_type": "markdown",
   "id": "47649d11-6ae2-4058-8cc1-9a75d0860edd",
   "metadata": {},
   "source": [
    "### Exercise 5: 2D Arrays\n",
    "\n",
    "Create two 2D arrays:\n",
    "```\n",
    "A = [[1,2],[3,4]]\n",
    "B = [[2,0],[1,3]]\n",
    "```\n",
    "Compute:\n",
    "1. `A + B`\n",
    "2. `A - B`\n",
    "3. `A * B` (element-wise)\n",
    "4. Matrix product `A @ B`\n"
   ]
  },
  {
   "cell_type": "code",
   "execution_count": 2,
   "id": "a801af8e-0eda-4a5d-a630-ff0e5221e54b",
   "metadata": {},
   "outputs": [],
   "source": [
    "# Your solution here"
   ]
  },
  {
   "cell_type": "markdown",
   "id": "23a76376-13cb-4b40-94be-a379eedca32d",
   "metadata": {},
   "source": [
    "### Exercise 6: Newton's Second Law\n",
    "\n",
    "Given masses `m = [1,2,3]` kg and accelerations `a = [3,2,1]` m/s^2, compute the forces using $F = ma$."
   ]
  },
  {
   "cell_type": "code",
   "execution_count": null,
   "id": "6a6a7300-685f-4ed0-9bcb-43f62237bce7",
   "metadata": {},
   "outputs": [],
   "source": [
    "# Your solution here"
   ]
  },
  {
   "cell_type": "markdown",
   "id": "afef62a6-295e-43fa-92bc-0f352bb1ead4",
   "metadata": {},
   "source": [
    "### Exercise 7: Kinetic Energy\n",
    "\n",
    "Suppose we have masses `m = [1, 2, 3]` (kg) and velocities `v = [2, 4, 6]` (m/s).\n",
    "\n",
    "Compute the **kinetic energy** for each mass: $KE = \\tfrac{1}{2} m v^2$."
   ]
  },
  {
   "cell_type": "code",
   "execution_count": null,
   "id": "87ff8b94-4c19-4b19-b283-41fc5ffe6fc5",
   "metadata": {},
   "outputs": [],
   "source": [
    "# Your solution here"
   ]
  },
  {
   "cell_type": "markdown",
   "id": "c8374c8e-364f-429a-b3b8-9d11baef5a5c",
   "metadata": {},
   "source": [
    "### Exercise 8: Exponential Series\n",
    "\n",
    "Approximate $e^x$ for $x=1$ using the series expansion:\n",
    "\n",
    "$$e^x = 1 + x + \\frac{x^2}{2!} + \\frac{x^3}{3!} + \\cdots$$\n",
    "\n",
    "Compute the approximation using the first **5 terms**."
   ]
  },
  {
   "cell_type": "code",
   "execution_count": 5,
   "id": "650988f9-947c-483b-ba73-17b6a2be11bd",
   "metadata": {},
   "outputs": [],
   "source": [
    "# Your solution here"
   ]
  },
  {
   "cell_type": "code",
   "execution_count": null,
   "id": "88d4e408-8963-4052-a906-bff4922dce32",
   "metadata": {},
   "outputs": [],
   "source": []
  }
 ],
 "metadata": {
  "kernelspec": {
   "display_name": "Python 3 (ipykernel)",
   "language": "python",
   "name": "python3"
  },
  "language_info": {
   "codemirror_mode": {
    "name": "ipython",
    "version": 3
   },
   "file_extension": ".py",
   "mimetype": "text/x-python",
   "name": "python",
   "nbconvert_exporter": "python",
   "pygments_lexer": "ipython3",
   "version": "3.9.15"
  }
 },
 "nbformat": 4,
 "nbformat_minor": 5
}
